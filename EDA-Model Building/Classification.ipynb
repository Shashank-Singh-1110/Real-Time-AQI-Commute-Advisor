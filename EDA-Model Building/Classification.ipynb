{
 "cells": [
  {
   "cell_type": "code",
   "execution_count": 1,
   "id": "e9be5c02",
   "metadata": {},
   "outputs": [
    {
     "name": "stderr",
     "output_type": "stream",
     "text": [
      "/Users/shashanksingh/opt/anaconda3/lib/python3.9/site-packages/pandas/core/computation/expressions.py:21: UserWarning: Pandas requires version '2.8.4' or newer of 'numexpr' (version '2.8.1' currently installed).\n",
      "  from pandas.core.computation.check import NUMEXPR_INSTALLED\n",
      "/Users/shashanksingh/opt/anaconda3/lib/python3.9/site-packages/pandas/core/arrays/masked.py:61: UserWarning: Pandas requires version '1.3.6' or newer of 'bottleneck' (version '1.3.4' currently installed).\n",
      "  from pandas.core import (\n"
     ]
    }
   ],
   "source": [
    "import pandas as pd\n",
    "from sklearn.ensemble import RandomForestClassifier\n",
    "from sklearn.preprocessing import LabelEncoder\n",
    "import os\n",
    "import joblib\n",
    "from sklearn.metrics import accuracy_score, classification_report\n",
    "import numpy as np\n",
    "import warnings\n",
    "\n",
    "warnings.filterwarnings(\"ignore\")"
   ]
  },
  {
   "cell_type": "code",
   "execution_count": 2,
   "id": "feebde6b",
   "metadata": {},
   "outputs": [],
   "source": [
    "def classify_quirky_aqi_category(pm25_value):\n",
    "    if pm25_value <= 30: return \"Crystal Clear Skies ☀️\"\n",
    "    elif pm25_value <= 60: return \"Light Haze ☁️\"\n",
    "    elif pm25_value <= 90: return \"Urban Fog 🏙️\"\n",
    "    elif pm25_value <= 120: return \"Smog Alert 🏭\"\n",
    "    elif pm25_value <= 250: return \"Pea Soup Air 🍲\"\n",
    "    else: return \"Code Red Atmosphere 🚨\""
   ]
  },
  {
   "cell_type": "code",
   "execution_count": 3,
   "id": "64e581f5",
   "metadata": {
    "scrolled": false
   },
   "outputs": [
    {
     "data": {
      "text/html": [
       "<div>\n",
       "<style scoped>\n",
       "    .dataframe tbody tr th:only-of-type {\n",
       "        vertical-align: middle;\n",
       "    }\n",
       "\n",
       "    .dataframe tbody tr th {\n",
       "        vertical-align: top;\n",
       "    }\n",
       "\n",
       "    .dataframe thead th {\n",
       "        text-align: right;\n",
       "    }\n",
       "</style>\n",
       "<table border=\"1\" class=\"dataframe\">\n",
       "  <thead>\n",
       "    <tr style=\"text-align: right;\">\n",
       "      <th></th>\n",
       "      <th>pm2_5</th>\n",
       "      <th>temperature_2m</th>\n",
       "      <th>relativehumidity_2m</th>\n",
       "      <th>precipitation</th>\n",
       "      <th>windspeed_10m</th>\n",
       "      <th>hour</th>\n",
       "      <th>day_of_week</th>\n",
       "      <th>month</th>\n",
       "      <th>pm2_5_lag_1h</th>\n",
       "      <th>pm2_5_lag_24h</th>\n",
       "      <th>pm2_5_lag_2h</th>\n",
       "      <th>pm2_5_lag_3h</th>\n",
       "      <th>pm2_5_lag_6h</th>\n",
       "      <th>pm2_5_lag_12h</th>\n",
       "      <th>pm2_5_lag_48h</th>\n",
       "      <th>city_chennai</th>\n",
       "      <th>city_delhi</th>\n",
       "      <th>city_mumbai</th>\n",
       "    </tr>\n",
       "    <tr>\n",
       "      <th>time</th>\n",
       "      <th></th>\n",
       "      <th></th>\n",
       "      <th></th>\n",
       "      <th></th>\n",
       "      <th></th>\n",
       "      <th></th>\n",
       "      <th></th>\n",
       "      <th></th>\n",
       "      <th></th>\n",
       "      <th></th>\n",
       "      <th></th>\n",
       "      <th></th>\n",
       "      <th></th>\n",
       "      <th></th>\n",
       "      <th></th>\n",
       "      <th></th>\n",
       "      <th></th>\n",
       "      <th></th>\n",
       "    </tr>\n",
       "  </thead>\n",
       "  <tbody>\n",
       "    <tr>\n",
       "      <th>2022-01-03 00:00:00</th>\n",
       "      <td>17.6</td>\n",
       "      <td>23.0</td>\n",
       "      <td>71</td>\n",
       "      <td>0.0</td>\n",
       "      <td>8.3</td>\n",
       "      <td>0</td>\n",
       "      <td>0</td>\n",
       "      <td>1</td>\n",
       "      <td>17.6</td>\n",
       "      <td>17.6</td>\n",
       "      <td>17.6</td>\n",
       "      <td>17.6</td>\n",
       "      <td>17.6</td>\n",
       "      <td>17.6</td>\n",
       "      <td>17.6</td>\n",
       "      <td>False</td>\n",
       "      <td>False</td>\n",
       "      <td>True</td>\n",
       "    </tr>\n",
       "    <tr>\n",
       "      <th>2022-01-03 01:00:00</th>\n",
       "      <td>17.6</td>\n",
       "      <td>22.2</td>\n",
       "      <td>75</td>\n",
       "      <td>0.0</td>\n",
       "      <td>6.0</td>\n",
       "      <td>1</td>\n",
       "      <td>0</td>\n",
       "      <td>1</td>\n",
       "      <td>17.6</td>\n",
       "      <td>17.6</td>\n",
       "      <td>17.6</td>\n",
       "      <td>17.6</td>\n",
       "      <td>17.6</td>\n",
       "      <td>17.6</td>\n",
       "      <td>17.6</td>\n",
       "      <td>False</td>\n",
       "      <td>False</td>\n",
       "      <td>True</td>\n",
       "    </tr>\n",
       "    <tr>\n",
       "      <th>2022-01-03 02:00:00</th>\n",
       "      <td>17.6</td>\n",
       "      <td>21.6</td>\n",
       "      <td>79</td>\n",
       "      <td>0.0</td>\n",
       "      <td>5.2</td>\n",
       "      <td>2</td>\n",
       "      <td>0</td>\n",
       "      <td>1</td>\n",
       "      <td>17.6</td>\n",
       "      <td>17.6</td>\n",
       "      <td>17.6</td>\n",
       "      <td>17.6</td>\n",
       "      <td>17.6</td>\n",
       "      <td>17.6</td>\n",
       "      <td>17.6</td>\n",
       "      <td>False</td>\n",
       "      <td>False</td>\n",
       "      <td>True</td>\n",
       "    </tr>\n",
       "    <tr>\n",
       "      <th>2022-01-03 03:00:00</th>\n",
       "      <td>17.6</td>\n",
       "      <td>21.5</td>\n",
       "      <td>79</td>\n",
       "      <td>0.0</td>\n",
       "      <td>6.1</td>\n",
       "      <td>3</td>\n",
       "      <td>0</td>\n",
       "      <td>1</td>\n",
       "      <td>17.6</td>\n",
       "      <td>17.6</td>\n",
       "      <td>17.6</td>\n",
       "      <td>17.6</td>\n",
       "      <td>17.6</td>\n",
       "      <td>17.6</td>\n",
       "      <td>17.6</td>\n",
       "      <td>False</td>\n",
       "      <td>False</td>\n",
       "      <td>True</td>\n",
       "    </tr>\n",
       "    <tr>\n",
       "      <th>2022-01-03 04:00:00</th>\n",
       "      <td>17.6</td>\n",
       "      <td>21.6</td>\n",
       "      <td>78</td>\n",
       "      <td>0.0</td>\n",
       "      <td>8.1</td>\n",
       "      <td>4</td>\n",
       "      <td>0</td>\n",
       "      <td>1</td>\n",
       "      <td>17.6</td>\n",
       "      <td>17.6</td>\n",
       "      <td>17.6</td>\n",
       "      <td>17.6</td>\n",
       "      <td>17.6</td>\n",
       "      <td>17.6</td>\n",
       "      <td>17.6</td>\n",
       "      <td>False</td>\n",
       "      <td>False</td>\n",
       "      <td>True</td>\n",
       "    </tr>\n",
       "  </tbody>\n",
       "</table>\n",
       "</div>"
      ],
      "text/plain": [
       "                     pm2_5  temperature_2m  relativehumidity_2m  \\\n",
       "time                                                              \n",
       "2022-01-03 00:00:00   17.6            23.0                   71   \n",
       "2022-01-03 01:00:00   17.6            22.2                   75   \n",
       "2022-01-03 02:00:00   17.6            21.6                   79   \n",
       "2022-01-03 03:00:00   17.6            21.5                   79   \n",
       "2022-01-03 04:00:00   17.6            21.6                   78   \n",
       "\n",
       "                     precipitation  windspeed_10m  hour  day_of_week  month  \\\n",
       "time                                                                          \n",
       "2022-01-03 00:00:00            0.0            8.3     0            0      1   \n",
       "2022-01-03 01:00:00            0.0            6.0     1            0      1   \n",
       "2022-01-03 02:00:00            0.0            5.2     2            0      1   \n",
       "2022-01-03 03:00:00            0.0            6.1     3            0      1   \n",
       "2022-01-03 04:00:00            0.0            8.1     4            0      1   \n",
       "\n",
       "                     pm2_5_lag_1h  pm2_5_lag_24h  pm2_5_lag_2h  pm2_5_lag_3h  \\\n",
       "time                                                                           \n",
       "2022-01-03 00:00:00          17.6           17.6          17.6          17.6   \n",
       "2022-01-03 01:00:00          17.6           17.6          17.6          17.6   \n",
       "2022-01-03 02:00:00          17.6           17.6          17.6          17.6   \n",
       "2022-01-03 03:00:00          17.6           17.6          17.6          17.6   \n",
       "2022-01-03 04:00:00          17.6           17.6          17.6          17.6   \n",
       "\n",
       "                     pm2_5_lag_6h  pm2_5_lag_12h  pm2_5_lag_48h  city_chennai  \\\n",
       "time                                                                            \n",
       "2022-01-03 00:00:00          17.6           17.6           17.6         False   \n",
       "2022-01-03 01:00:00          17.6           17.6           17.6         False   \n",
       "2022-01-03 02:00:00          17.6           17.6           17.6         False   \n",
       "2022-01-03 03:00:00          17.6           17.6           17.6         False   \n",
       "2022-01-03 04:00:00          17.6           17.6           17.6         False   \n",
       "\n",
       "                     city_delhi  city_mumbai  \n",
       "time                                          \n",
       "2022-01-03 00:00:00       False         True  \n",
       "2022-01-03 01:00:00       False         True  \n",
       "2022-01-03 02:00:00       False         True  \n",
       "2022-01-03 03:00:00       False         True  \n",
       "2022-01-03 04:00:00       False         True  "
      ]
     },
     "execution_count": 3,
     "metadata": {},
     "output_type": "execute_result"
    }
   ],
   "source": [
    "df = pd.read_csv(\"Featured_Engineered_Dataset.csv\", index_col='time', parse_dates=True)\n",
    "df.head()"
   ]
  },
  {
   "cell_type": "code",
   "execution_count": 4,
   "id": "79b37503",
   "metadata": {},
   "outputs": [
    {
     "name": "stdout",
     "output_type": "stream",
     "text": [
      "Quirky Category Mapping: {'Code Red Atmosphere 🚨': 0, 'Crystal Clear Skies ☀️': 1, 'Light Haze ☁️': 2, 'Pea Soup Air 🍲': 3, 'Smog Alert 🏭': 4, 'Urban Fog 🏙️': 5}\n"
     ]
    }
   ],
   "source": [
    "df['aqi_category'] = df['pm2_5'].apply(classify_quirky_aqi_category)\n",
    "    \n",
    "label_encoder = LabelEncoder()\n",
    "df['aqi_category_encoded'] = label_encoder.fit_transform(df['aqi_category'])\n",
    "quirky_category_mapping = dict(zip(label_encoder.classes_, label_encoder.transform(label_encoder.classes_)))\n",
    "print(\"Quirky Category Mapping:\", quirky_category_mapping)"
   ]
  },
  {
   "cell_type": "code",
   "execution_count": 5,
   "id": "64782653",
   "metadata": {},
   "outputs": [],
   "source": [
    "y = df['aqi_category_encoded']\n",
    "X = df.drop(['pm2_5', 'aqi_category', 'aqi_category_encoded'], axis=1)"
   ]
  },
  {
   "cell_type": "code",
   "execution_count": 6,
   "id": "26331f97",
   "metadata": {},
   "outputs": [
    {
     "name": "stdout",
     "output_type": "stream",
     "text": [
      "Train set: 105024, Test set: 28512\n"
     ]
    }
   ],
   "source": [
    "split_date = '2025-01-01'\n",
    "X_train = X[X.index < split_date]\n",
    "y_train = y[y.index < split_date]\n",
    "X_test = X[X.index >= split_date]\n",
    "y_test = y[y.index >= split_date]\n",
    "print(f\"Train set: {X_train.shape[0]}, Test set: {X_test.shape[0]}\")"
   ]
  },
  {
   "cell_type": "code",
   "execution_count": 7,
   "id": "6aa91f55",
   "metadata": {},
   "outputs": [
    {
     "data": {
      "text/html": [
       "<style>#sk-container-id-1 {color: black;}#sk-container-id-1 pre{padding: 0;}#sk-container-id-1 div.sk-toggleable {background-color: white;}#sk-container-id-1 label.sk-toggleable__label {cursor: pointer;display: block;width: 100%;margin-bottom: 0;padding: 0.3em;box-sizing: border-box;text-align: center;}#sk-container-id-1 label.sk-toggleable__label-arrow:before {content: \"▸\";float: left;margin-right: 0.25em;color: #696969;}#sk-container-id-1 label.sk-toggleable__label-arrow:hover:before {color: black;}#sk-container-id-1 div.sk-estimator:hover label.sk-toggleable__label-arrow:before {color: black;}#sk-container-id-1 div.sk-toggleable__content {max-height: 0;max-width: 0;overflow: hidden;text-align: left;background-color: #f0f8ff;}#sk-container-id-1 div.sk-toggleable__content pre {margin: 0.2em;color: black;border-radius: 0.25em;background-color: #f0f8ff;}#sk-container-id-1 input.sk-toggleable__control:checked~div.sk-toggleable__content {max-height: 200px;max-width: 100%;overflow: auto;}#sk-container-id-1 input.sk-toggleable__control:checked~label.sk-toggleable__label-arrow:before {content: \"▾\";}#sk-container-id-1 div.sk-estimator input.sk-toggleable__control:checked~label.sk-toggleable__label {background-color: #d4ebff;}#sk-container-id-1 div.sk-label input.sk-toggleable__control:checked~label.sk-toggleable__label {background-color: #d4ebff;}#sk-container-id-1 input.sk-hidden--visually {border: 0;clip: rect(1px 1px 1px 1px);clip: rect(1px, 1px, 1px, 1px);height: 1px;margin: -1px;overflow: hidden;padding: 0;position: absolute;width: 1px;}#sk-container-id-1 div.sk-estimator {font-family: monospace;background-color: #f0f8ff;border: 1px dotted black;border-radius: 0.25em;box-sizing: border-box;margin-bottom: 0.5em;}#sk-container-id-1 div.sk-estimator:hover {background-color: #d4ebff;}#sk-container-id-1 div.sk-parallel-item::after {content: \"\";width: 100%;border-bottom: 1px solid gray;flex-grow: 1;}#sk-container-id-1 div.sk-label:hover label.sk-toggleable__label {background-color: #d4ebff;}#sk-container-id-1 div.sk-serial::before {content: \"\";position: absolute;border-left: 1px solid gray;box-sizing: border-box;top: 0;bottom: 0;left: 50%;z-index: 0;}#sk-container-id-1 div.sk-serial {display: flex;flex-direction: column;align-items: center;background-color: white;padding-right: 0.2em;padding-left: 0.2em;position: relative;}#sk-container-id-1 div.sk-item {position: relative;z-index: 1;}#sk-container-id-1 div.sk-parallel {display: flex;align-items: stretch;justify-content: center;background-color: white;position: relative;}#sk-container-id-1 div.sk-item::before, #sk-container-id-1 div.sk-parallel-item::before {content: \"\";position: absolute;border-left: 1px solid gray;box-sizing: border-box;top: 0;bottom: 0;left: 50%;z-index: -1;}#sk-container-id-1 div.sk-parallel-item {display: flex;flex-direction: column;z-index: 1;position: relative;background-color: white;}#sk-container-id-1 div.sk-parallel-item:first-child::after {align-self: flex-end;width: 50%;}#sk-container-id-1 div.sk-parallel-item:last-child::after {align-self: flex-start;width: 50%;}#sk-container-id-1 div.sk-parallel-item:only-child::after {width: 0;}#sk-container-id-1 div.sk-dashed-wrapped {border: 1px dashed gray;margin: 0 0.4em 0.5em 0.4em;box-sizing: border-box;padding-bottom: 0.4em;background-color: white;}#sk-container-id-1 div.sk-label label {font-family: monospace;font-weight: bold;display: inline-block;line-height: 1.2em;}#sk-container-id-1 div.sk-label-container {text-align: center;}#sk-container-id-1 div.sk-container {/* jupyter's `normalize.less` sets `[hidden] { display: none; }` but bootstrap.min.css set `[hidden] { display: none !important; }` so we also need the `!important` here to be able to override the default hidden behavior on the sphinx rendered scikit-learn.org. See: https://github.com/scikit-learn/scikit-learn/issues/21755 */display: inline-block !important;position: relative;}#sk-container-id-1 div.sk-text-repr-fallback {display: none;}</style><div id=\"sk-container-id-1\" class=\"sk-top-container\"><div class=\"sk-text-repr-fallback\"><pre>RandomForestClassifier(class_weight=&#x27;balanced&#x27;, max_depth=15,\n",
       "                       min_samples_leaf=5, n_jobs=-1, random_state=42)</pre><b>In a Jupyter environment, please rerun this cell to show the HTML representation or trust the notebook. <br />On GitHub, the HTML representation is unable to render, please try loading this page with nbviewer.org.</b></div><div class=\"sk-container\" hidden><div class=\"sk-item\"><div class=\"sk-estimator sk-toggleable\"><input class=\"sk-toggleable__control sk-hidden--visually\" id=\"sk-estimator-id-1\" type=\"checkbox\" checked><label for=\"sk-estimator-id-1\" class=\"sk-toggleable__label sk-toggleable__label-arrow\">RandomForestClassifier</label><div class=\"sk-toggleable__content\"><pre>RandomForestClassifier(class_weight=&#x27;balanced&#x27;, max_depth=15,\n",
       "                       min_samples_leaf=5, n_jobs=-1, random_state=42)</pre></div></div></div></div></div>"
      ],
      "text/plain": [
       "RandomForestClassifier(class_weight='balanced', max_depth=15,\n",
       "                       min_samples_leaf=5, n_jobs=-1, random_state=42)"
      ]
     },
     "execution_count": 7,
     "metadata": {},
     "output_type": "execute_result"
    }
   ],
   "source": [
    "model_clf = RandomForestClassifier(\n",
    "        n_estimators=100, max_depth=15, random_state=42, n_jobs=-1,\n",
    "        min_samples_leaf=5, class_weight='balanced'\n",
    "    )\n",
    "model_clf.fit(X_train, y_train)"
   ]
  },
  {
   "cell_type": "code",
   "execution_count": 8,
   "id": "c74eabda",
   "metadata": {},
   "outputs": [
    {
     "name": "stdout",
     "output_type": "stream",
     "text": [
      "Test Set Accuracy: 93.29%\n",
      "                        precision    recall  f1-score   support\n",
      "\n",
      " Code Red Atmosphere 🚨       0.76      0.72      0.74        36\n",
      "Crystal Clear Skies ☀️       0.98      0.97      0.98     16395\n",
      "         Light Haze ☁️       0.91      0.89      0.90      7069\n",
      "        Pea Soup Air 🍲       0.88      0.86      0.87       665\n",
      "          Smog Alert 🏭       0.76      0.86      0.81      1232\n",
      "          Urban Fog 🏙️       0.82      0.88      0.85      3115\n",
      "\n",
      "              accuracy                           0.93     28512\n",
      "             macro avg       0.85      0.87      0.86     28512\n",
      "          weighted avg       0.94      0.93      0.93     28512\n",
      "\n"
     ]
    }
   ],
   "source": [
    "y_pred = model_clf.predict(X_test)\n",
    "y_pred_category = label_encoder.inverse_transform(y_pred)\n",
    "y_test_category = label_encoder.inverse_transform(y_test)\n",
    "\n",
    "accuracy = accuracy_score(y_test, y_pred)\n",
    "print(f\"Test Set Accuracy: {accuracy*100:.2f}%\")\n",
    "report = classification_report(y_test_category, y_pred_category, zero_division=0)\n",
    "print(report)"
   ]
  },
  {
   "cell_type": "code",
   "execution_count": 9,
   "id": "2ad8c6ff",
   "metadata": {},
   "outputs": [
    {
     "data": {
      "text/plain": [
       "['quirky_category_mapping.joblib']"
      ]
     },
     "execution_count": 9,
     "metadata": {},
     "output_type": "execute_result"
    }
   ],
   "source": [
    "MODEL_CLF_FILE = 'classification_model.joblib'\n",
    "MAPPING_FILE = 'quirky_category_mapping.joblib'\n",
    "joblib.dump(model_clf, MODEL_CLF_FILE)\n",
    "joblib.dump(quirky_category_mapping, MAPPING_FILE)"
   ]
  }
 ],
 "metadata": {
  "kernelspec": {
   "display_name": "Python 3 (ipykernel)",
   "language": "python",
   "name": "python3"
  },
  "language_info": {
   "codemirror_mode": {
    "name": "ipython",
    "version": 3
   },
   "file_extension": ".py",
   "mimetype": "text/x-python",
   "name": "python",
   "nbconvert_exporter": "python",
   "pygments_lexer": "ipython3",
   "version": "3.9.12"
  }
 },
 "nbformat": 4,
 "nbformat_minor": 5
}
