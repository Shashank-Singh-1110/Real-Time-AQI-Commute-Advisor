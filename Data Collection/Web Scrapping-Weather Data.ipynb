{
 "cells": [
  {
   "cell_type": "code",
   "execution_count": 1,
   "id": "7981110b",
   "metadata": {},
   "outputs": [
    {
     "name": "stderr",
     "output_type": "stream",
     "text": [
      "/Users/shashanksingh/opt/anaconda3/lib/python3.9/site-packages/pandas/core/computation/expressions.py:21: UserWarning: Pandas requires version '2.8.4' or newer of 'numexpr' (version '2.8.1' currently installed).\n",
      "  from pandas.core.computation.check import NUMEXPR_INSTALLED\n",
      "/Users/shashanksingh/opt/anaconda3/lib/python3.9/site-packages/pandas/core/arrays/masked.py:61: UserWarning: Pandas requires version '1.3.6' or newer of 'bottleneck' (version '1.3.4' currently installed).\n",
      "  from pandas.core import (\n"
     ]
    }
   ],
   "source": [
    "import requests\n",
    "import pandas as pd\n",
    "import os\n",
    "from datetime import datetime, timedelta\n",
    "\n",
    "CITIES = {\n",
    "    \"mumbai\": {\"lat\": 19.0760, \"lon\": 72.8777}, \n",
    "    \"delhi\": {\"lat\": 28.6139, \"lon\": 77.2090},\n",
    "    \"chennai\": {\"lat\": 13.0827, \"lon\": 80.2707},\n",
    "    \"bangalore\": {\"lat\": 12.9716, \"lon\": 77.5946}\n",
    "}\n",
    "\n",
    "START_DATE = \"2022-01-01\"\n",
    "END_DATE = (datetime.now() - timedelta(days=1)).strftime('%Y-%m-%d')\n",
    "WEATHER_API_URL = \"https://archive-api.open-meteo.com/v1/archive\""
   ]
  },
  {
   "cell_type": "code",
   "execution_count": 2,
   "id": "291fb1d8",
   "metadata": {
    "scrolled": true
   },
   "outputs": [
    {
     "name": "stdout",
     "output_type": "stream",
     "text": [
      "\n",
      "Processing Weather for: MUMBAI\n",
      "Successfully saved: mumbai_raw_weather.csv\n",
      "\n",
      "Processing Weather for: DELHI\n",
      "Successfully saved: delhi_raw_weather.csv\n",
      "\n",
      "Processing Weather for: CHENNAI\n",
      "Successfully saved: chennai_raw_weather.csv\n",
      "\n",
      "Processing Weather for: BANGALORE\n",
      "Successfully saved: bangalore_raw_weather.csv\n",
      "\n",
      "--- Weather Fetching Complete! ---\n"
     ]
    }
   ],
   "source": [
    "for city_name, coords in CITIES.items():\n",
    "    \n",
    "    output_filename = f\"{city_name}_raw_weather.csv\"\n",
    "    if os.path.exists(output_filename):\n",
    "        print(f\"Skipping {city_name} (Weather): File '{output_filename}' already exists.\")\n",
    "        continue\n",
    "\n",
    "    print(f\"\\nProcessing Weather for: {city_name.upper()}\")\n",
    "    \n",
    "    weather_params = {\n",
    "        \"latitude\": coords[\"lat\"],\n",
    "        \"longitude\": coords[\"lon\"],\n",
    "        \"start_date\": START_DATE,\n",
    "        \"end_date\": END_DATE,\n",
    "        \"hourly\": [\"temperature_2m\", \"relativehumidity_2m\", \"precipitation\", \"windspeed_10m\"],\n",
    "        \"timezone\": \"Asia/Kolkata\"\n",
    "    }\n",
    "    \n",
    "\n",
    "    try:\n",
    "        response_weather = requests.get(WEATHER_API_URL, params=weather_params)\n",
    "        response_weather.raise_for_status()\n",
    "        \n",
    "        data_weather = response_weather.json()\n",
    "        weather_df = pd.DataFrame(data_weather['hourly'])\n",
    "        weather_df.to_csv(output_filename, index=False)\n",
    "        print(f\"Successfully saved: {output_filename}\")\n",
    "    \n",
    "    except requests.exceptions.RequestException as e:\n",
    "        print(f\"ERROR: Failed to get weather data for {city_name}. Skipping. Error: {e}\")\n",
    "        continue\n",
    "\n",
    "print(\"\\n--- Weather Fetching Complete! ---\")"
   ]
  },
  {
   "cell_type": "code",
   "execution_count": 3,
   "id": "047c2794",
   "metadata": {},
   "outputs": [
    {
     "data": {
      "text/html": [
       "<div>\n",
       "<style scoped>\n",
       "    .dataframe tbody tr th:only-of-type {\n",
       "        vertical-align: middle;\n",
       "    }\n",
       "\n",
       "    .dataframe tbody tr th {\n",
       "        vertical-align: top;\n",
       "    }\n",
       "\n",
       "    .dataframe thead th {\n",
       "        text-align: right;\n",
       "    }\n",
       "</style>\n",
       "<table border=\"1\" class=\"dataframe\">\n",
       "  <thead>\n",
       "    <tr style=\"text-align: right;\">\n",
       "      <th></th>\n",
       "      <th>time</th>\n",
       "      <th>temperature_2m</th>\n",
       "      <th>relativehumidity_2m</th>\n",
       "      <th>precipitation</th>\n",
       "      <th>windspeed_10m</th>\n",
       "    </tr>\n",
       "  </thead>\n",
       "  <tbody>\n",
       "    <tr>\n",
       "      <th>33427</th>\n",
       "      <td>2025-10-24T19:00</td>\n",
       "      <td>22.2</td>\n",
       "      <td>85</td>\n",
       "      <td>0.0</td>\n",
       "      <td>6.4</td>\n",
       "    </tr>\n",
       "    <tr>\n",
       "      <th>33428</th>\n",
       "      <td>2025-10-24T20:00</td>\n",
       "      <td>21.9</td>\n",
       "      <td>86</td>\n",
       "      <td>0.0</td>\n",
       "      <td>7.0</td>\n",
       "    </tr>\n",
       "    <tr>\n",
       "      <th>33429</th>\n",
       "      <td>2025-10-24T21:00</td>\n",
       "      <td>21.6</td>\n",
       "      <td>88</td>\n",
       "      <td>0.0</td>\n",
       "      <td>7.6</td>\n",
       "    </tr>\n",
       "    <tr>\n",
       "      <th>33430</th>\n",
       "      <td>2025-10-24T22:00</td>\n",
       "      <td>21.1</td>\n",
       "      <td>91</td>\n",
       "      <td>0.0</td>\n",
       "      <td>7.8</td>\n",
       "    </tr>\n",
       "    <tr>\n",
       "      <th>33431</th>\n",
       "      <td>2025-10-24T23:00</td>\n",
       "      <td>20.9</td>\n",
       "      <td>93</td>\n",
       "      <td>0.0</td>\n",
       "      <td>6.3</td>\n",
       "    </tr>\n",
       "  </tbody>\n",
       "</table>\n",
       "</div>"
      ],
      "text/plain": [
       "                   time  temperature_2m  relativehumidity_2m  precipitation  \\\n",
       "33427  2025-10-24T19:00            22.2                   85            0.0   \n",
       "33428  2025-10-24T20:00            21.9                   86            0.0   \n",
       "33429  2025-10-24T21:00            21.6                   88            0.0   \n",
       "33430  2025-10-24T22:00            21.1                   91            0.0   \n",
       "33431  2025-10-24T23:00            20.9                   93            0.0   \n",
       "\n",
       "       windspeed_10m  \n",
       "33427            6.4  \n",
       "33428            7.0  \n",
       "33429            7.6  \n",
       "33430            7.8  \n",
       "33431            6.3  "
      ]
     },
     "execution_count": 3,
     "metadata": {},
     "output_type": "execute_result"
    }
   ],
   "source": [
    "weather_df.tail()"
   ]
  }
 ],
 "metadata": {
  "kernelspec": {
   "display_name": "Python 3 (ipykernel)",
   "language": "python",
   "name": "python3"
  },
  "language_info": {
   "codemirror_mode": {
    "name": "ipython",
    "version": 3
   },
   "file_extension": ".py",
   "mimetype": "text/x-python",
   "name": "python",
   "nbconvert_exporter": "python",
   "pygments_lexer": "ipython3",
   "version": "3.9.12"
  }
 },
 "nbformat": 4,
 "nbformat_minor": 5
}
