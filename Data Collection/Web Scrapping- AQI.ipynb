{
 "cells": [
  {
   "cell_type": "code",
   "execution_count": 1,
   "id": "d6d8f199",
   "metadata": {},
   "outputs": [
    {
     "name": "stderr",
     "output_type": "stream",
     "text": [
      "/Users/shashanksingh/opt/anaconda3/lib/python3.9/site-packages/pandas/core/computation/expressions.py:21: UserWarning: Pandas requires version '2.8.4' or newer of 'numexpr' (version '2.8.1' currently installed).\n",
      "  from pandas.core.computation.check import NUMEXPR_INSTALLED\n",
      "/Users/shashanksingh/opt/anaconda3/lib/python3.9/site-packages/pandas/core/arrays/masked.py:61: UserWarning: Pandas requires version '1.3.6' or newer of 'bottleneck' (version '1.3.4' currently installed).\n",
      "  from pandas.core import (\n"
     ]
    }
   ],
   "source": [
    "import requests\n",
    "import pandas as pd\n",
    "import os\n",
    "from datetime import datetime, timedelta\n",
    "\n",
    "CITIES = {\n",
    "    \"mumbai\": {\"lat\": 19.0760, \"lon\": 72.8777}, \n",
    "    \"delhi\": {\"lat\": 28.6139, \"lon\": 77.2090},\n",
    "    \"chennai\": {\"lat\": 13.0827, \"lon\": 80.2707},\n",
    "    \"bangalore\": {\"lat\": 12.9716, \"lon\": 77.5946}\n",
    "}\n",
    "\n",
    "START_DATE = \"2022-01-01\"\n",
    "END_DATE = (datetime.now() - timedelta(days=1)).strftime('%Y-%m-%d')\n",
    "AQI_API_URL = \"https://air-quality-api.open-meteo.com/v1/air-quality\""
   ]
  },
  {
   "cell_type": "code",
   "execution_count": 2,
   "id": "e4086970",
   "metadata": {
    "scrolled": false
   },
   "outputs": [
    {
     "name": "stdout",
     "output_type": "stream",
     "text": [
      "Skipping mumbai (AQI): File 'mumbai_raw_pm25.csv' already exists.\n",
      "Skipping delhi (AQI): File 'delhi_raw_pm25.csv' already exists.\n",
      "Skipping chennai (AQI): File 'chennai_raw_pm25.csv' already exists.\n",
      "Skipping bangalore (AQI): File 'bangalore_raw_pm25.csv' already exists.\n",
      "\n",
      "--- AQI Fetching Complete! ---\n"
     ]
    }
   ],
   "source": [
    "for city_name, coords in CITIES.items():\n",
    "    \n",
    "    output_filename = f\"{city_name}_raw_pm25.csv\"\n",
    "    if os.path.exists(output_filename):\n",
    "        print(f\"Skipping {city_name} (AQI): File '{output_filename}' already exists.\")\n",
    "        continue\n",
    "\n",
    "    print(f\"\\nProcessing AQI for: {city_name.upper()}\")\n",
    "    aqi_params = {\n",
    "        \"latitude\": coords[\"lat\"],\n",
    "        \"longitude\": coords[\"lon\"],\n",
    "        \"hourly\": [\"pm2_5\"], # Only PM2.5\n",
    "        \"start_date\": START_DATE,\n",
    "        \"end_date\": END_DATE,\n",
    "        \"timezone\": \"Asia/Kolkata\"\n",
    "    }\n",
    "    try:\n",
    "        response_aqi = requests.get(AQI_API_URL, params=aqi_params)\n",
    "        response_aqi.raise_for_status() # Raises an error if status is not 200\n",
    "        \n",
    "        data_aqi = response_aqi.json()\n",
    "        aqi_df = pd.DataFrame(data_aqi['hourly'])\n",
    "        aqi_df.to_csv(output_filename, index=False)\n",
    "        print(f\"Successfully saved: {output_filename}\")\n",
    "        print(f\"({city_name} found {aqi_df['pm2_5'].isnull().sum()} null values, which we will clean later)\")\n",
    "\n",
    "    except requests.exceptions.RequestException as e:\n",
    "        print(f\"ERROR: Failed to get AQI data for {city_name}. Skipping. Error: {e}\")\n",
    "        continue\n",
    "\n",
    "print(\"\\n--- AQI Fetching Complete! ---\")"
   ]
  }
 ],
 "metadata": {
  "kernelspec": {
   "display_name": "Python 3 (ipykernel)",
   "language": "python",
   "name": "python3"
  },
  "language_info": {
   "codemirror_mode": {
    "name": "ipython",
    "version": 3
   },
   "file_extension": ".py",
   "mimetype": "text/x-python",
   "name": "python",
   "nbconvert_exporter": "python",
   "pygments_lexer": "ipython3",
   "version": "3.9.12"
  }
 },
 "nbformat": 4,
 "nbformat_minor": 5
}
