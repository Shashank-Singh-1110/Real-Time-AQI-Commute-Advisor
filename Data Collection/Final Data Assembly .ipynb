{
 "cells": [
  {
   "cell_type": "code",
   "execution_count": 1,
   "id": "f1d5ca12",
   "metadata": {
    "scrolled": true
   },
   "outputs": [
    {
     "name": "stderr",
     "output_type": "stream",
     "text": [
      "/Users/shashanksingh/opt/anaconda3/lib/python3.9/site-packages/pandas/core/computation/expressions.py:21: UserWarning: Pandas requires version '2.8.4' or newer of 'numexpr' (version '2.8.1' currently installed).\n",
      "  from pandas.core.computation.check import NUMEXPR_INSTALLED\n",
      "/Users/shashanksingh/opt/anaconda3/lib/python3.9/site-packages/pandas/core/arrays/masked.py:61: UserWarning: Pandas requires version '1.3.6' or newer of 'bottleneck' (version '1.3.4' currently installed).\n",
      "  from pandas.core import (\n"
     ]
    }
   ],
   "source": [
    "import pandas as pd\n",
    "import os\n",
    "\n",
    "CITIES = [\"mumbai\", \"delhi\", \"chennai\", \"bangalore\"]"
   ]
  },
  {
   "cell_type": "code",
   "execution_count": 2,
   "id": "c18d7474",
   "metadata": {
    "scrolled": false
   },
   "outputs": [
    {
     "name": "stdout",
     "output_type": "stream",
     "text": [
      "\n",
      "Processing: MUMBAI\n",
      "Merging AQI and Weather for mumbai...\n",
      "Cleaning 5165 nulls in 'pm2_5' for mumbai...\n",
      "\n",
      "Processing: DELHI\n",
      "Merging AQI and Weather for delhi...\n",
      "Cleaning 5165 nulls in 'pm2_5' for delhi...\n",
      "\n",
      "Processing: CHENNAI\n",
      "Merging AQI and Weather for chennai...\n",
      "Cleaning 5165 nulls in 'pm2_5' for chennai...\n",
      "\n",
      "Processing: BANGALORE\n"
     ]
    },
    {
     "name": "stderr",
     "output_type": "stream",
     "text": [
      "/var/folders/2q/fxd35nc93_743mwdmbr6q__40000gn/T/ipykernel_28496/515697662.py:25: FutureWarning: A value is trying to be set on a copy of a DataFrame or Series through chained assignment using an inplace method.\n",
      "The behavior will change in pandas 3.0. This inplace method will never work because the intermediate object on which we are setting values always behaves as a copy.\n",
      "\n",
      "For example, when doing 'df[col].method(value, inplace=True)', try using 'df.method({col: value}, inplace=True)' or df[col] = df[col].method(value) instead, to perform the operation inplace on the original object.\n",
      "\n",
      "\n",
      "  city_df['pm2_5'].interpolate(method='linear', inplace=True)\n",
      "/var/folders/2q/fxd35nc93_743mwdmbr6q__40000gn/T/ipykernel_28496/515697662.py:25: FutureWarning: A value is trying to be set on a copy of a DataFrame or Series through chained assignment using an inplace method.\n",
      "The behavior will change in pandas 3.0. This inplace method will never work because the intermediate object on which we are setting values always behaves as a copy.\n",
      "\n",
      "For example, when doing 'df[col].method(value, inplace=True)', try using 'df.method({col: value}, inplace=True)' or df[col] = df[col].method(value) instead, to perform the operation inplace on the original object.\n",
      "\n",
      "\n",
      "  city_df['pm2_5'].interpolate(method='linear', inplace=True)\n",
      "/var/folders/2q/fxd35nc93_743mwdmbr6q__40000gn/T/ipykernel_28496/515697662.py:25: FutureWarning: A value is trying to be set on a copy of a DataFrame or Series through chained assignment using an inplace method.\n",
      "The behavior will change in pandas 3.0. This inplace method will never work because the intermediate object on which we are setting values always behaves as a copy.\n",
      "\n",
      "For example, when doing 'df[col].method(value, inplace=True)', try using 'df.method({col: value}, inplace=True)' or df[col] = df[col].method(value) instead, to perform the operation inplace on the original object.\n",
      "\n",
      "\n",
      "  city_df['pm2_5'].interpolate(method='linear', inplace=True)\n",
      "/var/folders/2q/fxd35nc93_743mwdmbr6q__40000gn/T/ipykernel_28496/515697662.py:25: FutureWarning: A value is trying to be set on a copy of a DataFrame or Series through chained assignment using an inplace method.\n",
      "The behavior will change in pandas 3.0. This inplace method will never work because the intermediate object on which we are setting values always behaves as a copy.\n",
      "\n",
      "For example, when doing 'df[col].method(value, inplace=True)', try using 'df.method({col: value}, inplace=True)' or df[col] = df[col].method(value) instead, to perform the operation inplace on the original object.\n",
      "\n",
      "\n",
      "  city_df['pm2_5'].interpolate(method='linear', inplace=True)\n"
     ]
    },
    {
     "name": "stdout",
     "output_type": "stream",
     "text": [
      "Merging AQI and Weather for bangalore...\n",
      "Cleaning 5165 nulls in 'pm2_5' for bangalore...\n"
     ]
    },
    {
     "data": {
      "text/html": [
       "<div>\n",
       "<style scoped>\n",
       "    .dataframe tbody tr th:only-of-type {\n",
       "        vertical-align: middle;\n",
       "    }\n",
       "\n",
       "    .dataframe tbody tr th {\n",
       "        vertical-align: top;\n",
       "    }\n",
       "\n",
       "    .dataframe thead th {\n",
       "        text-align: right;\n",
       "    }\n",
       "</style>\n",
       "<table border=\"1\" class=\"dataframe\">\n",
       "  <thead>\n",
       "    <tr style=\"text-align: right;\">\n",
       "      <th></th>\n",
       "      <th>pm2_5</th>\n",
       "      <th>temperature_2m</th>\n",
       "      <th>relativehumidity_2m</th>\n",
       "      <th>precipitation</th>\n",
       "      <th>windspeed_10m</th>\n",
       "      <th>city</th>\n",
       "    </tr>\n",
       "    <tr>\n",
       "      <th>time</th>\n",
       "      <th></th>\n",
       "      <th></th>\n",
       "      <th></th>\n",
       "      <th></th>\n",
       "      <th></th>\n",
       "      <th></th>\n",
       "    </tr>\n",
       "  </thead>\n",
       "  <tbody>\n",
       "    <tr>\n",
       "      <th>2022-01-01 00:00:00</th>\n",
       "      <td>17.6</td>\n",
       "      <td>22.6</td>\n",
       "      <td>74</td>\n",
       "      <td>0.0</td>\n",
       "      <td>7.4</td>\n",
       "      <td>mumbai</td>\n",
       "    </tr>\n",
       "    <tr>\n",
       "      <th>2022-01-01 01:00:00</th>\n",
       "      <td>17.6</td>\n",
       "      <td>21.7</td>\n",
       "      <td>78</td>\n",
       "      <td>0.0</td>\n",
       "      <td>7.1</td>\n",
       "      <td>mumbai</td>\n",
       "    </tr>\n",
       "    <tr>\n",
       "      <th>2022-01-01 02:00:00</th>\n",
       "      <td>17.6</td>\n",
       "      <td>21.5</td>\n",
       "      <td>77</td>\n",
       "      <td>0.0</td>\n",
       "      <td>10.5</td>\n",
       "      <td>mumbai</td>\n",
       "    </tr>\n",
       "    <tr>\n",
       "      <th>2022-01-01 03:00:00</th>\n",
       "      <td>17.6</td>\n",
       "      <td>21.4</td>\n",
       "      <td>73</td>\n",
       "      <td>0.0</td>\n",
       "      <td>10.6</td>\n",
       "      <td>mumbai</td>\n",
       "    </tr>\n",
       "    <tr>\n",
       "      <th>2022-01-01 04:00:00</th>\n",
       "      <td>17.6</td>\n",
       "      <td>20.9</td>\n",
       "      <td>73</td>\n",
       "      <td>0.0</td>\n",
       "      <td>9.8</td>\n",
       "      <td>mumbai</td>\n",
       "    </tr>\n",
       "  </tbody>\n",
       "</table>\n",
       "</div>"
      ],
      "text/plain": [
       "                     pm2_5  temperature_2m  relativehumidity_2m  \\\n",
       "time                                                              \n",
       "2022-01-01 00:00:00   17.6            22.6                   74   \n",
       "2022-01-01 01:00:00   17.6            21.7                   78   \n",
       "2022-01-01 02:00:00   17.6            21.5                   77   \n",
       "2022-01-01 03:00:00   17.6            21.4                   73   \n",
       "2022-01-01 04:00:00   17.6            20.9                   73   \n",
       "\n",
       "                     precipitation  windspeed_10m    city  \n",
       "time                                                       \n",
       "2022-01-01 00:00:00            0.0            7.4  mumbai  \n",
       "2022-01-01 01:00:00            0.0            7.1  mumbai  \n",
       "2022-01-01 02:00:00            0.0           10.5  mumbai  \n",
       "2022-01-01 03:00:00            0.0           10.6  mumbai  \n",
       "2022-01-01 04:00:00            0.0            9.8  mumbai  "
      ]
     },
     "execution_count": 2,
     "metadata": {},
     "output_type": "execute_result"
    }
   ],
   "source": [
    "all_city_dataframes = []\n",
    "\n",
    "for city in CITIES:\n",
    "    print(f\"\\nProcessing: {city.upper()}\")\n",
    "    aqi_file = f\"{city}_raw_pm25.csv\"\n",
    "    weather_file = f\"{city}_raw_weather.csv\"\n",
    "\n",
    "    if not os.path.exists(aqi_file) or not os.path.exists(weather_file):\n",
    "        print(f\"Warning: Raw files for {city} not found. Skipping.\")\n",
    "        print(f\"  (Looking for: '{aqi_file}' and '{weather_file}')\")\n",
    "        continue\n",
    "        \n",
    "    try:\n",
    "        aqi_df = pd.read_csv(aqi_file, parse_dates=['time'])\n",
    "        weather_df = pd.read_csv(weather_file, parse_dates=['time'])\n",
    "    except Exception as e:\n",
    "        print(f\"Error loading files for {city}: {e}\")\n",
    "        continue\n",
    "    print(f\"Merging AQI and Weather for {city}...\")\n",
    "    city_df = pd.merge(aqi_df, weather_df, on='time', how='outer')\n",
    "    city_df['city'] = city\n",
    "    city_df.set_index('time', inplace=True)\n",
    "    print(f\"Cleaning {city_df['pm2_5'].isnull().sum()} nulls in 'pm2_5' for {city}...\")\n",
    "    \n",
    "    city_df['pm2_5'].interpolate(method='linear', inplace=True)\n",
    "    city_df.bfill(inplace=True) \n",
    "    city_df.ffill(inplace=True) \n",
    "    all_city_dataframes.append(city_df)\n",
    "if all_city_dataframes:\n",
    "    df = pd.concat(all_city_dataframes)\n",
    "    \n",
    "    output_filename = \"final_dataset.csv\"\n",
    "    df.to_csv(output_filename)\n",
    "df.head()"
   ]
  },
  {
   "cell_type": "code",
   "execution_count": 3,
   "id": "e897ac0b",
   "metadata": {
    "scrolled": false
   },
   "outputs": [
    {
     "data": {
      "text/plain": [
       "city\n",
       "mumbai       33432\n",
       "delhi        33432\n",
       "chennai      33432\n",
       "bangalore    33432\n",
       "Name: count, dtype: int64"
      ]
     },
     "execution_count": 3,
     "metadata": {},
     "output_type": "execute_result"
    }
   ],
   "source": [
    "df['city'].value_counts()"
   ]
  },
  {
   "cell_type": "code",
   "execution_count": 4,
   "id": "6e9ad8ca",
   "metadata": {},
   "outputs": [
    {
     "name": "stdout",
     "output_type": "stream",
     "text": [
      "Total Null Values in the Dataset 0\n"
     ]
    }
   ],
   "source": [
    "print(f\"Total Null Values in the Dataset {df.isna().sum().sum()}\")"
   ]
  }
 ],
 "metadata": {
  "kernelspec": {
   "display_name": "Python 3 (ipykernel)",
   "language": "python",
   "name": "python3"
  },
  "language_info": {
   "codemirror_mode": {
    "name": "ipython",
    "version": 3
   },
   "file_extension": ".py",
   "mimetype": "text/x-python",
   "name": "python",
   "nbconvert_exporter": "python",
   "pygments_lexer": "ipython3",
   "version": "3.9.12"
  }
 },
 "nbformat": 4,
 "nbformat_minor": 5
}
